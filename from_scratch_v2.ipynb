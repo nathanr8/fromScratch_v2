{
  "nbformat": 4,
  "nbformat_minor": 0,
  "metadata": {
    "colab": {
      "provenance": []
    },
    "kernelspec": {
      "name": "python3",
      "display_name": "Python 3"
    },
    "language_info": {
      "name": "python"
    }
  },
  "cells": [
    {
      "cell_type": "code",
      "execution_count": null,
      "metadata": {
        "id": "jHFBzKaCHvk3"
      },
      "outputs": [],
      "source": [
        "import numpy as np\n",
        "import pandas as pd"
      ]
    },
    {
      "cell_type": "code",
      "source": [
        "data = pd.read_csv('/content/sample_data/mnist_train_small.csv')\n",
        "data_test_val = pd.read_csv('/content/sample_data/mnist_test.csv')\n",
        "data.shape"
      ],
      "metadata": {
        "colab": {
          "base_uri": "https://localhost:8080/"
        },
        "id": "BWivxxLkES8x",
        "outputId": "32cdbdea-d3d0-4ea3-d411-6fd6ded39743"
      },
      "execution_count": null,
      "outputs": [
        {
          "output_type": "execute_result",
          "data": {
            "text/plain": [
              "(19999, 785)"
            ]
          },
          "metadata": {},
          "execution_count": 39
        }
      ]
    },
    {
      "cell_type": "code",
      "source": [
        "data.head()"
      ],
      "metadata": {
        "colab": {
          "base_uri": "https://localhost:8080/",
          "height": 235
        },
        "id": "H-PhEkdfEddb",
        "outputId": "f548b337-3d0c-4ddd-f3a7-54aeaf3d3ee4"
      },
      "execution_count": null,
      "outputs": [
        {
          "output_type": "execute_result",
          "data": {
            "text/plain": [
              "   6  0  0.1  0.2  0.3  0.4  0.5  0.6  0.7  0.8  ...  0.581  0.582  0.583  \\\n",
              "0  5  0    0    0    0    0    0    0    0    0  ...      0      0      0   \n",
              "1  7  0    0    0    0    0    0    0    0    0  ...      0      0      0   \n",
              "2  9  0    0    0    0    0    0    0    0    0  ...      0      0      0   \n",
              "3  5  0    0    0    0    0    0    0    0    0  ...      0      0      0   \n",
              "4  2  0    0    0    0    0    0    0    0    0  ...      0      0      0   \n",
              "\n",
              "   0.584  0.585  0.586  0.587  0.588  0.589  0.590  \n",
              "0      0      0      0      0      0      0      0  \n",
              "1      0      0      0      0      0      0      0  \n",
              "2      0      0      0      0      0      0      0  \n",
              "3      0      0      0      0      0      0      0  \n",
              "4      0      0      0      0      0      0      0  \n",
              "\n",
              "[5 rows x 785 columns]"
            ],
            "text/html": [
              "\n",
              "  <div id=\"df-3269ca73-a778-4d8e-9dbc-60f6c237b693\" class=\"colab-df-container\">\n",
              "    <div>\n",
              "<style scoped>\n",
              "    .dataframe tbody tr th:only-of-type {\n",
              "        vertical-align: middle;\n",
              "    }\n",
              "\n",
              "    .dataframe tbody tr th {\n",
              "        vertical-align: top;\n",
              "    }\n",
              "\n",
              "    .dataframe thead th {\n",
              "        text-align: right;\n",
              "    }\n",
              "</style>\n",
              "<table border=\"1\" class=\"dataframe\">\n",
              "  <thead>\n",
              "    <tr style=\"text-align: right;\">\n",
              "      <th></th>\n",
              "      <th>6</th>\n",
              "      <th>0</th>\n",
              "      <th>0.1</th>\n",
              "      <th>0.2</th>\n",
              "      <th>0.3</th>\n",
              "      <th>0.4</th>\n",
              "      <th>0.5</th>\n",
              "      <th>0.6</th>\n",
              "      <th>0.7</th>\n",
              "      <th>0.8</th>\n",
              "      <th>...</th>\n",
              "      <th>0.581</th>\n",
              "      <th>0.582</th>\n",
              "      <th>0.583</th>\n",
              "      <th>0.584</th>\n",
              "      <th>0.585</th>\n",
              "      <th>0.586</th>\n",
              "      <th>0.587</th>\n",
              "      <th>0.588</th>\n",
              "      <th>0.589</th>\n",
              "      <th>0.590</th>\n",
              "    </tr>\n",
              "  </thead>\n",
              "  <tbody>\n",
              "    <tr>\n",
              "      <th>0</th>\n",
              "      <td>5</td>\n",
              "      <td>0</td>\n",
              "      <td>0</td>\n",
              "      <td>0</td>\n",
              "      <td>0</td>\n",
              "      <td>0</td>\n",
              "      <td>0</td>\n",
              "      <td>0</td>\n",
              "      <td>0</td>\n",
              "      <td>0</td>\n",
              "      <td>...</td>\n",
              "      <td>0</td>\n",
              "      <td>0</td>\n",
              "      <td>0</td>\n",
              "      <td>0</td>\n",
              "      <td>0</td>\n",
              "      <td>0</td>\n",
              "      <td>0</td>\n",
              "      <td>0</td>\n",
              "      <td>0</td>\n",
              "      <td>0</td>\n",
              "    </tr>\n",
              "    <tr>\n",
              "      <th>1</th>\n",
              "      <td>7</td>\n",
              "      <td>0</td>\n",
              "      <td>0</td>\n",
              "      <td>0</td>\n",
              "      <td>0</td>\n",
              "      <td>0</td>\n",
              "      <td>0</td>\n",
              "      <td>0</td>\n",
              "      <td>0</td>\n",
              "      <td>0</td>\n",
              "      <td>...</td>\n",
              "      <td>0</td>\n",
              "      <td>0</td>\n",
              "      <td>0</td>\n",
              "      <td>0</td>\n",
              "      <td>0</td>\n",
              "      <td>0</td>\n",
              "      <td>0</td>\n",
              "      <td>0</td>\n",
              "      <td>0</td>\n",
              "      <td>0</td>\n",
              "    </tr>\n",
              "    <tr>\n",
              "      <th>2</th>\n",
              "      <td>9</td>\n",
              "      <td>0</td>\n",
              "      <td>0</td>\n",
              "      <td>0</td>\n",
              "      <td>0</td>\n",
              "      <td>0</td>\n",
              "      <td>0</td>\n",
              "      <td>0</td>\n",
              "      <td>0</td>\n",
              "      <td>0</td>\n",
              "      <td>...</td>\n",
              "      <td>0</td>\n",
              "      <td>0</td>\n",
              "      <td>0</td>\n",
              "      <td>0</td>\n",
              "      <td>0</td>\n",
              "      <td>0</td>\n",
              "      <td>0</td>\n",
              "      <td>0</td>\n",
              "      <td>0</td>\n",
              "      <td>0</td>\n",
              "    </tr>\n",
              "    <tr>\n",
              "      <th>3</th>\n",
              "      <td>5</td>\n",
              "      <td>0</td>\n",
              "      <td>0</td>\n",
              "      <td>0</td>\n",
              "      <td>0</td>\n",
              "      <td>0</td>\n",
              "      <td>0</td>\n",
              "      <td>0</td>\n",
              "      <td>0</td>\n",
              "      <td>0</td>\n",
              "      <td>...</td>\n",
              "      <td>0</td>\n",
              "      <td>0</td>\n",
              "      <td>0</td>\n",
              "      <td>0</td>\n",
              "      <td>0</td>\n",
              "      <td>0</td>\n",
              "      <td>0</td>\n",
              "      <td>0</td>\n",
              "      <td>0</td>\n",
              "      <td>0</td>\n",
              "    </tr>\n",
              "    <tr>\n",
              "      <th>4</th>\n",
              "      <td>2</td>\n",
              "      <td>0</td>\n",
              "      <td>0</td>\n",
              "      <td>0</td>\n",
              "      <td>0</td>\n",
              "      <td>0</td>\n",
              "      <td>0</td>\n",
              "      <td>0</td>\n",
              "      <td>0</td>\n",
              "      <td>0</td>\n",
              "      <td>...</td>\n",
              "      <td>0</td>\n",
              "      <td>0</td>\n",
              "      <td>0</td>\n",
              "      <td>0</td>\n",
              "      <td>0</td>\n",
              "      <td>0</td>\n",
              "      <td>0</td>\n",
              "      <td>0</td>\n",
              "      <td>0</td>\n",
              "      <td>0</td>\n",
              "    </tr>\n",
              "  </tbody>\n",
              "</table>\n",
              "<p>5 rows × 785 columns</p>\n",
              "</div>\n",
              "    <div class=\"colab-df-buttons\">\n",
              "\n",
              "  <div class=\"colab-df-container\">\n",
              "    <button class=\"colab-df-convert\" onclick=\"convertToInteractive('df-3269ca73-a778-4d8e-9dbc-60f6c237b693')\"\n",
              "            title=\"Convert this dataframe to an interactive table.\"\n",
              "            style=\"display:none;\">\n",
              "\n",
              "  <svg xmlns=\"http://www.w3.org/2000/svg\" height=\"24px\" viewBox=\"0 -960 960 960\">\n",
              "    <path d=\"M120-120v-720h720v720H120Zm60-500h600v-160H180v160Zm220 220h160v-160H400v160Zm0 220h160v-160H400v160ZM180-400h160v-160H180v160Zm440 0h160v-160H620v160ZM180-180h160v-160H180v160Zm440 0h160v-160H620v160Z\"/>\n",
              "  </svg>\n",
              "    </button>\n",
              "\n",
              "  <style>\n",
              "    .colab-df-container {\n",
              "      display:flex;\n",
              "      gap: 12px;\n",
              "    }\n",
              "\n",
              "    .colab-df-convert {\n",
              "      background-color: #E8F0FE;\n",
              "      border: none;\n",
              "      border-radius: 50%;\n",
              "      cursor: pointer;\n",
              "      display: none;\n",
              "      fill: #1967D2;\n",
              "      height: 32px;\n",
              "      padding: 0 0 0 0;\n",
              "      width: 32px;\n",
              "    }\n",
              "\n",
              "    .colab-df-convert:hover {\n",
              "      background-color: #E2EBFA;\n",
              "      box-shadow: 0px 1px 2px rgba(60, 64, 67, 0.3), 0px 1px 3px 1px rgba(60, 64, 67, 0.15);\n",
              "      fill: #174EA6;\n",
              "    }\n",
              "\n",
              "    .colab-df-buttons div {\n",
              "      margin-bottom: 4px;\n",
              "    }\n",
              "\n",
              "    [theme=dark] .colab-df-convert {\n",
              "      background-color: #3B4455;\n",
              "      fill: #D2E3FC;\n",
              "    }\n",
              "\n",
              "    [theme=dark] .colab-df-convert:hover {\n",
              "      background-color: #434B5C;\n",
              "      box-shadow: 0px 1px 3px 1px rgba(0, 0, 0, 0.15);\n",
              "      filter: drop-shadow(0px 1px 2px rgba(0, 0, 0, 0.3));\n",
              "      fill: #FFFFFF;\n",
              "    }\n",
              "  </style>\n",
              "\n",
              "    <script>\n",
              "      const buttonEl =\n",
              "        document.querySelector('#df-3269ca73-a778-4d8e-9dbc-60f6c237b693 button.colab-df-convert');\n",
              "      buttonEl.style.display =\n",
              "        google.colab.kernel.accessAllowed ? 'block' : 'none';\n",
              "\n",
              "      async function convertToInteractive(key) {\n",
              "        const element = document.querySelector('#df-3269ca73-a778-4d8e-9dbc-60f6c237b693');\n",
              "        const dataTable =\n",
              "          await google.colab.kernel.invokeFunction('convertToInteractive',\n",
              "                                                    [key], {});\n",
              "        if (!dataTable) return;\n",
              "\n",
              "        const docLinkHtml = 'Like what you see? Visit the ' +\n",
              "          '<a target=\"_blank\" href=https://colab.research.google.com/notebooks/data_table.ipynb>data table notebook</a>'\n",
              "          + ' to learn more about interactive tables.';\n",
              "        element.innerHTML = '';\n",
              "        dataTable['output_type'] = 'display_data';\n",
              "        await google.colab.output.renderOutput(dataTable, element);\n",
              "        const docLink = document.createElement('div');\n",
              "        docLink.innerHTML = docLinkHtml;\n",
              "        element.appendChild(docLink);\n",
              "      }\n",
              "    </script>\n",
              "  </div>\n",
              "\n",
              "\n",
              "<div id=\"df-65a3e068-b675-4faa-8e81-3a7d5c133f91\">\n",
              "  <button class=\"colab-df-quickchart\" onclick=\"quickchart('df-65a3e068-b675-4faa-8e81-3a7d5c133f91')\"\n",
              "            title=\"Suggest charts\"\n",
              "            style=\"display:none;\">\n",
              "\n",
              "<svg xmlns=\"http://www.w3.org/2000/svg\" height=\"24px\"viewBox=\"0 0 24 24\"\n",
              "     width=\"24px\">\n",
              "    <g>\n",
              "        <path d=\"M19 3H5c-1.1 0-2 .9-2 2v14c0 1.1.9 2 2 2h14c1.1 0 2-.9 2-2V5c0-1.1-.9-2-2-2zM9 17H7v-7h2v7zm4 0h-2V7h2v10zm4 0h-2v-4h2v4z\"/>\n",
              "    </g>\n",
              "</svg>\n",
              "  </button>\n",
              "\n",
              "<style>\n",
              "  .colab-df-quickchart {\n",
              "      --bg-color: #E8F0FE;\n",
              "      --fill-color: #1967D2;\n",
              "      --hover-bg-color: #E2EBFA;\n",
              "      --hover-fill-color: #174EA6;\n",
              "      --disabled-fill-color: #AAA;\n",
              "      --disabled-bg-color: #DDD;\n",
              "  }\n",
              "\n",
              "  [theme=dark] .colab-df-quickchart {\n",
              "      --bg-color: #3B4455;\n",
              "      --fill-color: #D2E3FC;\n",
              "      --hover-bg-color: #434B5C;\n",
              "      --hover-fill-color: #FFFFFF;\n",
              "      --disabled-bg-color: #3B4455;\n",
              "      --disabled-fill-color: #666;\n",
              "  }\n",
              "\n",
              "  .colab-df-quickchart {\n",
              "    background-color: var(--bg-color);\n",
              "    border: none;\n",
              "    border-radius: 50%;\n",
              "    cursor: pointer;\n",
              "    display: none;\n",
              "    fill: var(--fill-color);\n",
              "    height: 32px;\n",
              "    padding: 0;\n",
              "    width: 32px;\n",
              "  }\n",
              "\n",
              "  .colab-df-quickchart:hover {\n",
              "    background-color: var(--hover-bg-color);\n",
              "    box-shadow: 0 1px 2px rgba(60, 64, 67, 0.3), 0 1px 3px 1px rgba(60, 64, 67, 0.15);\n",
              "    fill: var(--button-hover-fill-color);\n",
              "  }\n",
              "\n",
              "  .colab-df-quickchart-complete:disabled,\n",
              "  .colab-df-quickchart-complete:disabled:hover {\n",
              "    background-color: var(--disabled-bg-color);\n",
              "    fill: var(--disabled-fill-color);\n",
              "    box-shadow: none;\n",
              "  }\n",
              "\n",
              "  .colab-df-spinner {\n",
              "    border: 2px solid var(--fill-color);\n",
              "    border-color: transparent;\n",
              "    border-bottom-color: var(--fill-color);\n",
              "    animation:\n",
              "      spin 1s steps(1) infinite;\n",
              "  }\n",
              "\n",
              "  @keyframes spin {\n",
              "    0% {\n",
              "      border-color: transparent;\n",
              "      border-bottom-color: var(--fill-color);\n",
              "      border-left-color: var(--fill-color);\n",
              "    }\n",
              "    20% {\n",
              "      border-color: transparent;\n",
              "      border-left-color: var(--fill-color);\n",
              "      border-top-color: var(--fill-color);\n",
              "    }\n",
              "    30% {\n",
              "      border-color: transparent;\n",
              "      border-left-color: var(--fill-color);\n",
              "      border-top-color: var(--fill-color);\n",
              "      border-right-color: var(--fill-color);\n",
              "    }\n",
              "    40% {\n",
              "      border-color: transparent;\n",
              "      border-right-color: var(--fill-color);\n",
              "      border-top-color: var(--fill-color);\n",
              "    }\n",
              "    60% {\n",
              "      border-color: transparent;\n",
              "      border-right-color: var(--fill-color);\n",
              "    }\n",
              "    80% {\n",
              "      border-color: transparent;\n",
              "      border-right-color: var(--fill-color);\n",
              "      border-bottom-color: var(--fill-color);\n",
              "    }\n",
              "    90% {\n",
              "      border-color: transparent;\n",
              "      border-bottom-color: var(--fill-color);\n",
              "    }\n",
              "  }\n",
              "</style>\n",
              "\n",
              "  <script>\n",
              "    async function quickchart(key) {\n",
              "      const quickchartButtonEl =\n",
              "        document.querySelector('#' + key + ' button');\n",
              "      quickchartButtonEl.disabled = true;  // To prevent multiple clicks.\n",
              "      quickchartButtonEl.classList.add('colab-df-spinner');\n",
              "      try {\n",
              "        const charts = await google.colab.kernel.invokeFunction(\n",
              "            'suggestCharts', [key], {});\n",
              "      } catch (error) {\n",
              "        console.error('Error during call to suggestCharts:', error);\n",
              "      }\n",
              "      quickchartButtonEl.classList.remove('colab-df-spinner');\n",
              "      quickchartButtonEl.classList.add('colab-df-quickchart-complete');\n",
              "    }\n",
              "    (() => {\n",
              "      let quickchartButtonEl =\n",
              "        document.querySelector('#df-65a3e068-b675-4faa-8e81-3a7d5c133f91 button');\n",
              "      quickchartButtonEl.style.display =\n",
              "        google.colab.kernel.accessAllowed ? 'block' : 'none';\n",
              "    })();\n",
              "  </script>\n",
              "</div>\n",
              "\n",
              "    </div>\n",
              "  </div>\n"
            ],
            "application/vnd.google.colaboratory.intrinsic+json": {
              "type": "dataframe",
              "variable_name": "data"
            }
          },
          "metadata": {},
          "execution_count": 40
        }
      ]
    },
    {
      "cell_type": "code",
      "source": [
        "data = np.array(data)"
      ],
      "metadata": {
        "id": "l2QF6mkmEej6"
      },
      "execution_count": null,
      "outputs": []
    },
    {
      "cell_type": "code",
      "source": [
        "np.random.shuffle(data)"
      ],
      "metadata": {
        "id": "if3zjZBrEq3T"
      },
      "execution_count": null,
      "outputs": []
    },
    {
      "cell_type": "code",
      "source": [
        "m, n = data.shape"
      ],
      "metadata": {
        "id": "-2XevFJtEq5b"
      },
      "execution_count": null,
      "outputs": []
    },
    {
      "cell_type": "code",
      "source": [
        "print(m, n)"
      ],
      "metadata": {
        "colab": {
          "base_uri": "https://localhost:8080/"
        },
        "id": "f142yfIIEuP-",
        "outputId": "11e2a7ce-4441-4f2b-8c96-d0c40b268396"
      },
      "execution_count": null,
      "outputs": [
        {
          "output_type": "stream",
          "name": "stdout",
          "text": [
            "19999 785\n"
          ]
        }
      ]
    },
    {
      "cell_type": "code",
      "source": [
        "data_val = data[0:1000].T\n",
        "Y_val = data_val[0]\n",
        "X_val = data_val[1:n]\n",
        "X_val = X_val / 255.\n",
        "\n",
        "data_train = data[1000:m].T\n",
        "Y_train = data_train[0]\n",
        "X_train = data_train[1:n]\n",
        "X_train = X_train / 255.\n",
        "_,m_train = X_train.shape"
      ],
      "metadata": {
        "id": "Z0gAxR-aEx8_"
      },
      "execution_count": null,
      "outputs": []
    },
    {
      "cell_type": "code",
      "source": [
        "def initial_param():\n",
        "    W1 = np.random.rand(20, 784) - 0.5  # First hidden layer with 20 neurons\n",
        "    b1 = np.random.rand(20, 1) - 0.5\n",
        "\n",
        "    W2 = np.random.rand(15, 20) - 0.5  # Second hidden layer with 15 neurons\n",
        "    b2 = np.random.rand(15, 1) - 0.5\n",
        "\n",
        "    W3 = np.random.rand(10, 15) - 0.5  # Output layer (10 classes, connected to 15 neurons)\n",
        "    b3 = np.random.rand(10, 1) - 0.5\n",
        "\n",
        "    return W1, b1, W2, b2, W3, b3\n"
      ],
      "metadata": {
        "id": "st97N4coTeB5"
      },
      "execution_count": null,
      "outputs": []
    },
    {
      "cell_type": "code",
      "source": [
        "def ReLU_Function(Z):\n",
        "    return np.maximum(0, Z)"
      ],
      "metadata": {
        "id": "uP6CnKpwE7JX"
      },
      "execution_count": null,
      "outputs": []
    },
    {
      "cell_type": "code",
      "source": [
        "def softmax_func(Z):\n",
        "    A = np.exp(Z) / sum(np.exp(Z))\n",
        "    return A"
      ],
      "metadata": {
        "id": "mTMNvZhmE9Di"
      },
      "execution_count": null,
      "outputs": []
    },
    {
      "cell_type": "code",
      "source": [
        "def forward_prop(W1, b1, W2, b2, W3, b3, X):\n",
        "    Z1 = W1.dot(X) + b1\n",
        "    A1 = ReLU_Function(Z1)\n",
        "\n",
        "    Z2 = W2.dot(A1) + b2\n",
        "    A2 = ReLU_Function(Z2)\n",
        "\n",
        "    Z3 = W3.dot(A2) + b3\n",
        "    A3 = softmax_func(Z3)\n",
        "\n",
        "    return Z1, A1, Z2, A2, Z3, A3"
      ],
      "metadata": {
        "id": "Gw0oWkE4Tmb7"
      },
      "execution_count": null,
      "outputs": []
    },
    {
      "cell_type": "code",
      "source": [
        "def one_hot(Y):\n",
        "    hot_y = np.zeros((Y.size, Y.max() + 1))\n",
        "    hot_y[np.arange(Y.size), Y] = 1\n",
        "    hot_y = hot_y.T\n",
        "    return hot_y"
      ],
      "metadata": {
        "id": "6jNbN1JsE_uj"
      },
      "execution_count": null,
      "outputs": []
    },
    {
      "cell_type": "code",
      "source": [
        "def derivative_ReLU(Z):\n",
        "    return Z > 0"
      ],
      "metadata": {
        "id": "PKMH0VSWFA2m"
      },
      "execution_count": null,
      "outputs": []
    },
    {
      "cell_type": "code",
      "source": [
        "def back_prop(Z1, A1, Z2, A2, Z3, A3, W1, W2, W3, X, Y):\n",
        "    m = Y.size\n",
        "    hot_y = one_hot(Y)\n",
        "\n",
        "    # Gradients for Layer 3 (Output Layer)\n",
        "    dz3 = A3 - hot_y  # Error at the output layer\n",
        "    dw3 = 1 / m * dz3.dot(A2.T)  # Gradient of W3\n",
        "    db3 = 1 / m * np.sum(dz3, axis=1, keepdims=True)  # Gradient of b3\n",
        "\n",
        "    # Gradients for Layer 2\n",
        "    dz2 = W3.T.dot(dz3) * derivative_ReLU(Z2)\n",
        "    dw2 = 1 / m * dz2.dot(A1.T)\n",
        "    db2 = 1 / m * np.sum(dz2, axis=1, keepdims=True)\n",
        "\n",
        "    # Gradients for Layer 1\n",
        "    dz1 = W2.T.dot(dz2) * derivative_ReLU(Z1)\n",
        "    dw1 = 1 / m * dz1.dot(X.T)\n",
        "    db1 = 1 / m * np.sum(dz1, axis=1, keepdims=True)\n",
        "\n",
        "    return dw1, db1, dw2, db2, dw3, db3\n"
      ],
      "metadata": {
        "id": "y_Yaaq6nUKDi"
      },
      "execution_count": null,
      "outputs": []
    },
    {
      "cell_type": "code",
      "source": [
        "def get_pred(A3):\n",
        "    return np.argmax(A3, 0)"
      ],
      "metadata": {
        "id": "HYzyUVziUicD"
      },
      "execution_count": null,
      "outputs": []
    },
    {
      "cell_type": "code",
      "source": [
        "def get_acc(pred, Y):\n",
        "    print(pred, Y)\n",
        "    return np.sum(pred == Y) / Y.size"
      ],
      "metadata": {
        "id": "W3kh1bPNFGRn"
      },
      "execution_count": null,
      "outputs": []
    },
    {
      "cell_type": "code",
      "source": [
        "def initialize_adam(parameters):\n",
        "    adam = {}\n",
        "    for key in parameters:\n",
        "        adam[f\"m_{key}\"] = np.zeros_like(parameters[key])\n",
        "        adam[f\"v_{key}\"] = np.zeros_like(parameters[key])\n",
        "    return adam"
      ],
      "metadata": {
        "id": "NjRISveMVjEZ"
      },
      "execution_count": null,
      "outputs": []
    },
    {
      "cell_type": "code",
      "source": [
        "def adam_update(parameters, gradients, adam, alpha=0.001, beta1=0.9, beta2=0.999, epsilon=1e-8):\n",
        "    for key in parameters:\n",
        "        # Update first moment\n",
        "        adam[f\"m_{key}\"] = beta1 * adam[f\"m_{key}\"] + (1 - beta1) * gradients[key]\n",
        "\n",
        "        # Update second moment\n",
        "        adam[f\"v_{key}\"] = beta2 * adam[f\"v_{key}\"] + (1 - beta2) * (gradients[key] ** 2)\n",
        "\n",
        "        # Parameter update\n",
        "        parameters[key] -= alpha * adam[f\"m_{key}\"] / (np.sqrt(adam[f\"v_{key}\"]) + epsilon)\n",
        "\n",
        "    return parameters, adam\n"
      ],
      "metadata": {
        "id": "Ifou5teFVmQf"
      },
      "execution_count": null,
      "outputs": []
    },
    {
      "cell_type": "code",
      "source": [
        "def train_nn_adam(X, Y, epochs, alpha=0.001):\n",
        "    W1, b1, W2, b2, W3, b3 = initial_param()\n",
        "    parameters = {\"W1\": W1, \"b1\": b1, \"W2\": W2, \"b2\": b2, \"W3\": W3, \"b3\": b3}\n",
        "\n",
        "    adam = initialize_adam(parameters)\n",
        "\n",
        "    for t in range(epochs):\n",
        "        Z1, A1, Z2, A2, Z3, A3 = forward_prop(W1, b1, W2, b2, W3, b3, X)\n",
        "\n",
        "        dw1, db1, dw2, db2, dw3, db3 = back_prop(Z1, A1, Z2, A2, Z3, A3, W1, W2, W3, X, Y)\n",
        "        gradients = {\"W1\": dw1, \"b1\": db1, \"W2\": dw2, \"b2\": db2, \"W3\": dw3, \"b3\": db3}\n",
        "\n",
        "        parameters, adam = adam_update(parameters, gradients, adam, alpha)\n",
        "\n",
        "        W1, b1 = parameters[\"W1\"], parameters[\"b1\"]\n",
        "        W2, b2 = parameters[\"W2\"], parameters[\"b2\"]\n",
        "        W3, b3 = parameters[\"W3\"], parameters[\"b3\"]\n",
        "\n",
        "        if t % 10 == 0:\n",
        "            print(f\"Iteration {t}:\")\n",
        "            print(f\"Accuracy: {get_acc(get_pred(A3), Y)}\")\n",
        "\n",
        "    return W1, b1, W2, b2, W3, b3\n"
      ],
      "metadata": {
        "id": "_JYyjVzZVqlt"
      },
      "execution_count": null,
      "outputs": []
    },
    {
      "cell_type": "code",
      "source": [
        "# Train\n",
        "W1, b1, W2, b2, W3, b3 = train_nn_adam(X_train, Y_train, epochs=500, alpha=0.001)\n"
      ],
      "metadata": {
        "colab": {
          "base_uri": "https://localhost:8080/"
        },
        "collapsed": true,
        "id": "OJWFQcpsVumS",
        "outputId": "ed378804-5e36-402e-ee19-9e41302a4b4e"
      },
      "execution_count": null,
      "outputs": [
        {
          "output_type": "stream",
          "name": "stdout",
          "text": [
            "Iteration 0:\n",
            "[6 3 6 ... 3 3 3] [4 8 3 ... 6 3 0]\n",
            "Accuracy: 0.06368756250328965\n",
            "Iteration 10:\n",
            "[1 1 6 ... 6 0 0] [4 8 3 ... 6 3 0]\n",
            "Accuracy: 0.38775725038159903\n",
            "Iteration 20:\n",
            "[9 4 3 ... 6 5 0] [4 8 3 ... 6 3 0]\n",
            "Accuracy: 0.5969261540081057\n",
            "Iteration 30:\n",
            "[4 9 3 ... 6 3 0] [4 8 3 ... 6 3 0]\n",
            "Accuracy: 0.7237749355229223\n",
            "Iteration 40:\n",
            "[4 8 3 ... 6 3 0] [4 8 3 ... 6 3 0]\n",
            "Accuracy: 0.8038844149692089\n",
            "Iteration 50:\n",
            "[4 8 3 ... 6 3 0] [4 8 3 ... 6 3 0]\n",
            "Accuracy: 0.8479919995789252\n",
            "Iteration 60:\n",
            "[4 8 3 ... 6 3 0] [4 8 3 ... 6 3 0]\n",
            "Accuracy: 0.8718353597557766\n",
            "Iteration 70:\n",
            "[4 8 3 ... 6 3 0] [4 8 3 ... 6 3 0]\n",
            "Accuracy: 0.8874677614611295\n",
            "Iteration 80:\n",
            "[4 8 3 ... 6 3 0] [4 8 3 ... 6 3 0]\n",
            "Accuracy: 0.9002052739617875\n",
            "Iteration 90:\n",
            "[4 8 3 ... 6 3 0] [4 8 3 ... 6 3 0]\n",
            "Accuracy: 0.9089952102742249\n",
            "Iteration 100:\n",
            "[4 8 3 ... 6 3 0] [4 8 3 ... 6 3 0]\n",
            "Accuracy: 0.9139954734459709\n",
            "Iteration 110:\n",
            "[4 8 3 ... 6 3 0] [4 8 3 ... 6 3 0]\n",
            "Accuracy: 0.9184167587767778\n",
            "Iteration 120:\n",
            "[4 8 3 ... 6 3 0] [4 8 3 ... 6 3 0]\n",
            "Accuracy: 0.9223117006158219\n",
            "Iteration 130:\n",
            "[4 8 3 ... 6 3 0] [4 8 3 ... 6 3 0]\n",
            "Accuracy: 0.9249960524238118\n",
            "Iteration 140:\n",
            "[4 8 3 ... 6 3 0] [4 8 3 ... 6 3 0]\n",
            "Accuracy: 0.9275225011842728\n",
            "Iteration 150:\n",
            "[4 8 3 ... 6 3 0] [4 8 3 ... 6 3 0]\n",
            "Accuracy: 0.9304700247381441\n",
            "Iteration 160:\n",
            "[4 8 3 ... 6 3 0] [4 8 3 ... 6 3 0]\n",
            "Accuracy: 0.9332596452444866\n",
            "Iteration 170:\n",
            "[4 8 3 ... 6 3 0] [4 8 3 ... 6 3 0]\n",
            "Accuracy: 0.9353650192115375\n",
            "Iteration 180:\n",
            "[4 8 3 ... 6 3 0] [4 8 3 ... 6 3 0]\n",
            "Accuracy: 0.9373124901310596\n",
            "Iteration 190:\n",
            "[4 8 3 ... 6 3 0] [4 8 3 ... 6 3 0]\n",
            "Accuracy: 0.938944154955524\n",
            "Iteration 200:\n",
            "[4 8 3 ... 6 3 0] [4 8 3 ... 6 3 0]\n",
            "Accuracy: 0.9403652823832833\n",
            "Iteration 210:\n",
            "[4 8 3 ... 6 3 0] [4 8 3 ... 6 3 0]\n",
            "Accuracy: 0.9422074846044529\n",
            "Iteration 220:\n",
            "[4 8 3 ... 6 3 0] [4 8 3 ... 6 3 0]\n",
            "Accuracy: 0.943786515079741\n",
            "Iteration 230:\n",
            "[4 8 3 ... 6 3 0] [4 8 3 ... 6 3 0]\n",
            "Accuracy: 0.9448918364124428\n",
            "Iteration 240:\n",
            "[4 8 3 ... 6 3 0] [4 8 3 ... 6 3 0]\n",
            "Accuracy: 0.946470866887731\n",
            "Iteration 250:\n",
            "[4 8 3 ... 6 3 0] [4 8 3 ... 6 3 0]\n",
            "Accuracy: 0.9477867256171377\n",
            "Iteration 260:\n",
            "[4 8 3 ... 6 3 0] [4 8 3 ... 6 3 0]\n",
            "Accuracy: 0.9483130691089005\n",
            "Iteration 270:\n",
            "[4 8 3 ... 6 3 0] [4 8 3 ... 6 3 0]\n",
            "Accuracy: 0.949576293489131\n",
            "Iteration 280:\n",
            "[4 8 3 ... 6 3 0] [4 8 3 ... 6 3 0]\n",
            "Accuracy: 0.9511026896152429\n",
            "Iteration 290:\n",
            "[4 8 3 ... 6 3 0] [4 8 3 ... 6 3 0]\n",
            "Accuracy: 0.9521027422495921\n",
            "Iteration 300:\n",
            "[4 8 3 ... 6 3 0] [4 8 3 ... 6 3 0]\n",
            "Accuracy: 0.9527869887888836\n",
            "Iteration 310:\n",
            "[4 8 3 ... 6 3 0] [4 8 3 ... 6 3 0]\n",
            "Accuracy: 0.9532080635822938\n",
            "Iteration 320:\n",
            "[4 8 3 ... 6 3 0] [4 8 3 ... 6 3 0]\n",
            "Accuracy: 0.9544186536133481\n",
            "Iteration 330:\n",
            "[4 8 3 ... 6 3 0] [4 8 3 ... 6 3 0]\n",
            "Accuracy: 0.9551029001526397\n",
            "Iteration 340:\n",
            "[4 8 3 ... 6 3 0] [4 8 3 ... 6 3 0]\n",
            "Accuracy: 0.9564187588820464\n",
            "Iteration 350:\n",
            "[4 8 3 ... 6 3 0] [4 8 3 ... 6 3 0]\n",
            "Accuracy: 0.9569451023738091\n",
            "Iteration 360:\n",
            "[4 8 3 ... 6 3 0] [4 8 3 ... 6 3 0]\n",
            "Accuracy: 0.9580504237065108\n",
            "Iteration 370:\n",
            "[4 8 3 ... 6 3 0] [4 8 3 ... 6 3 0]\n",
            "Accuracy: 0.95905047634086\n",
            "Iteration 380:\n",
            "[4 8 3 ... 6 3 0] [4 8 3 ... 6 3 0]\n",
            "Accuracy: 0.9602084320227381\n",
            "Iteration 390:\n",
            "[4 8 3 ... 6 3 0] [4 8 3 ... 6 3 0]\n",
            "Accuracy: 0.9615242907521449\n",
            "Iteration 400:\n",
            "[4 8 3 ... 6 3 0] [4 8 3 ... 6 3 0]\n",
            "Accuracy: 0.9621559029422602\n",
            "Iteration 410:\n",
            "[4 8 3 ... 6 3 0] [4 8 3 ... 6 3 0]\n",
            "Accuracy: 0.9626822464340229\n",
            "Iteration 420:\n",
            "[4 8 3 ... 6 3 0] [4 8 3 ... 6 3 0]\n",
            "Accuracy: 0.9631559555766093\n",
            "Iteration 430:\n",
            "[4 8 3 ... 6 3 0] [4 8 3 ... 6 3 0]\n",
            "Accuracy: 0.9639454708142534\n",
            "Iteration 440:\n",
            "[4 8 3 ... 6 3 0] [4 8 3 ... 6 3 0]\n",
            "Accuracy: 0.9646823517027212\n",
            "Iteration 450:\n",
            "[4 8 3 ... 6 3 0] [4 8 3 ... 6 3 0]\n",
            "Accuracy: 0.9652086951944839\n",
            "Iteration 460:\n",
            "[4 8 3 ... 6 3 0] [4 8 3 ... 6 3 0]\n",
            "Accuracy: 0.9656297699878941\n",
            "Iteration 470:\n",
            "[4 8 3 ... 6 3 0] [4 8 3 ... 6 3 0]\n",
            "Accuracy: 0.9668403600189484\n",
            "Iteration 480:\n",
            "[4 8 3 ... 6 3 0] [4 8 3 ... 6 3 0]\n",
            "Accuracy: 0.9673667035107111\n",
            "Iteration 490:\n",
            "[4 8 3 ... 6 3 0] [4 8 3 ... 6 3 0]\n",
            "Accuracy: 0.9682088530975315\n"
          ]
        }
      ]
    },
    {
      "cell_type": "code",
      "source": [
        "#Test\n",
        "data_test_val = np.array(data_test_val)\n",
        "\n",
        "X_test_val = data_test_val[:, 1:].T / 255.0\n",
        "Y_test_val = data_test_val[:, 0]\n",
        "\n",
        "def test_model(W1, b1, W2, b2, W3, b3, X_test, Y_test):\n",
        "    Z1, A1, Z2, A2, Z3, A3 = forward_prop(W1, b1, W2, b2, W3, b3, X_test_val)\n",
        "\n",
        "    predictions = get_pred(A3)\n",
        "\n",
        "    accuracy = get_acc(predictions, Y_test_val)\n",
        "    return accuracy\n",
        "\n",
        "test_accuracy = test_model(W1, b1, W2, b2, W3, b3, X_test_val, Y_test_val)\n",
        "print(f\"Test Accuracy: {test_accuracy:.4f}%\")"
      ],
      "metadata": {
        "colab": {
          "base_uri": "https://localhost:8080/"
        },
        "id": "QhHWG6IYVimr",
        "outputId": "3832acae-8fe6-4020-e4db-42b106e0d1c2"
      },
      "execution_count": null,
      "outputs": [
        {
          "output_type": "stream",
          "name": "stdout",
          "text": [
            "[2 1 0 ... 9 5 6] [2 1 0 ... 4 5 6]\n",
            "Test Accuracy: 0.7828%\n"
          ]
        }
      ]
    },
    {
      "cell_type": "markdown",
      "source": [
        "Gradient Descent"
      ],
      "metadata": {
        "id": "UFv9YdxYzXFL"
      }
    },
    {
      "cell_type": "code",
      "source": [
        "def update_func(W1, b1, W2, b2, W3, b3, dw1, db1, dw2, db2, dw3, db3, alpha):\n",
        "    W1 = W1 - alpha * dw1\n",
        "    b1 = b1 - alpha * db1\n",
        "\n",
        "    W2 = W2 - alpha * dw2\n",
        "    b2 = b2 - alpha * db2\n",
        "\n",
        "    W3 = W3 - alpha * dw3\n",
        "    b3 = b3 - alpha * db3\n",
        "\n",
        "    return W1, b1, W2, b2, W3, b3\n"
      ],
      "metadata": {
        "id": "TlrO2uA8Udpp"
      },
      "execution_count": null,
      "outputs": []
    },
    {
      "cell_type": "code",
      "source": [
        "def grad_desc(X, Y, epochs, alpha):\n",
        "    # Initialize weights and biases for 3 layers\n",
        "    W1, b1, W2, b2, W3, b3 = initial_param()\n",
        "\n",
        "    for i in range(epochs):\n",
        "        Z1, A1, Z2, A2, Z3, A3 = forward_prop(W1, b1, W2, b2, W3, b3, X)\n",
        "\n",
        "        dw1, db1, dw2, db2, dw3, db3 = back_prop(Z1, A1, Z2, A2, Z3, A3, W1, W2, W3, X, Y)\n",
        "\n",
        "        W1, b1, W2, b2, W3, b3 = update_func(W1, b1, W2, b2, W3, b3, dw1, db1, dw2, db2, dw3, db3, alpha)\n",
        "\n",
        "        if i % 10 == 0:\n",
        "            print('Iteration #: ', i)\n",
        "            print('Accuracy: ', get_acc(get_pred(A3), Y))\n",
        "\n",
        "    return W1, b1, W2, b2, W3, b3"
      ],
      "metadata": {
        "id": "hyUZXIsTUmD3"
      },
      "execution_count": null,
      "outputs": []
    },
    {
      "cell_type": "code",
      "source": [
        "# Train\n",
        "W1, b1, W2, b2, W3, b3 = grad_desc(X_train, Y_train, epochs=1500, alpha=0.13)"
      ],
      "metadata": {
        "colab": {
          "base_uri": "https://localhost:8080/"
        },
        "collapsed": true,
        "id": "UVzzK8irUqE-",
        "outputId": "20a89074-81a0-4dc8-9691-65bd4ade2082"
      },
      "execution_count": null,
      "outputs": [
        {
          "output_type": "stream",
          "name": "stdout",
          "text": [
            "Iteration #:  0\n",
            "[1 6 3 ... 6 3 6] [1 9 6 ... 2 8 7]\n",
            "Accuracy:  0.13895468182535922\n"
          ]
        }
      ]
    }
  ]
}